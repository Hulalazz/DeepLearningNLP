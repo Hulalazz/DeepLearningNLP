{
 "cells": [
  {
   "cell_type": "markdown",
   "metadata": {
    "collapsed": true
   },
   "source": [
    "# Natural Language Processing\n",
    "\n",
    "## Overview\n",
    "\n",
    "Definition -Automatic manipulation of natural language, like speech or text, by software\n",
    "\n",
    "Why it is hard:\n",
    ">Human language is highly ambiguous … It is also ever changing and evolving. People are great at producing language and understanding language, and are capable of expressing, perceiving, and interpreting very elaborate and nuanced meanings. At the same time, while we humans are great users of language, we are also very poor at formally understanding and describing the rules that govern language.\n",
    "\n",
    "\n",
    "# Lesson 2\n",
    "=============\n",
    "## Cleaning Text Data\n",
    "\n",
    "-Goal: Splitting text data into words and eliminating unecessary stuff like punctuation.\n",
    "\n",
    "\n",
    "\n",
    "# Lesson 3\n",
    "=============\n",
    "## Bag-of-Words Model\n",
    "\n",
    "Definition: way of representing text data when modeling text with machine learning algorithms.\n",
    "\n",
    "\n",
    "-Machine learning algorithms cannot work with raw text directly -text must be converted into numbers. Specifically, vectors of numbers. This is called feature extraction or feature encoding.\n",
    "\n",
    ">In language processing, the vectors x are derived from textual data, in order to reflect various linguistic properties of the text.\n",
    "\n",
    "\n",
    "    \n",
    "\n",
    "Process:\n",
    "Given document of text represented using vector with one position for each word in vocabulary and score for each known word in document\n",
    "\n",
    "\n",
    "\n"
   ]
  }
 ],
 "metadata": {
  "anaconda-cloud": {},
  "kernelspec": {
   "display_name": "Python 3",
   "language": "python",
   "name": "python3"
  },
  "language_info": {
   "codemirror_mode": {
    "name": "ipython",
    "version": 3
   },
   "file_extension": ".py",
   "mimetype": "text/x-python",
   "name": "python",
   "nbconvert_exporter": "python",
   "pygments_lexer": "ipython3",
   "version": "3.5.2"
  }
 },
 "nbformat": 4,
 "nbformat_minor": 1
}
